{
  "nbformat": 4,
  "nbformat_minor": 0,
  "metadata": {
    "colab": {
      "name": "VCallZer.ipynb",
      "provenance": []
    },
    "kernelspec": {
      "name": "python3",
      "display_name": "Python 3"
    }
  },
  "cells": [
    {
      "cell_type": "code",
      "metadata": {
        "id": "jWH39ydHb6aN"
      },
      "source": [
        "import cv2\r\n",
        "import os\r\n",
        "import numpy as np\r\n",
        "import matplotlib.pyplot as plt"
      ],
      "execution_count": null,
      "outputs": []
    },
    {
      "cell_type": "code",
      "metadata": {
        "id": "4sj1gNhRcHHY"
      },
      "source": [
        "from google.colab import drive\r\n",
        "drive.mount(\"/content/gdrive\")"
      ],
      "execution_count": null,
      "outputs": []
    },
    {
      "cell_type": "code",
      "metadata": {
        "id": "zEy00t0OcMgc"
      },
      "source": [
        "DATADIR = \"/content/gdrive/My Drive/Colab Notebooks/images1/69000\"\r\n",
        "img = cv2.imread(os.path.join(DATADIR, \"69999.png\"))\r\n",
        "test_img = cv2.cvtColor(src=img, code=cv2.COLOR_BGR2GRAY)"
      ],
      "execution_count": null,
      "outputs": []
    },
    {
      "cell_type": "markdown",
      "metadata": {
        "id": "mVpexxyig4W3"
      },
      "source": [
        "1. Jaw Points = 0–16\r\n",
        "2. Right Brow Points = 17–21\r\n",
        "3. Left Brow Points = 22–26\r\n",
        "4. Nose Points = 27–35\r\n",
        "5. Right Eye Points = 36–41\r\n",
        "6. Left Eye Points = 42–47\r\n",
        "7. Mouth Points = 48–60\r\n",
        "8. Lips Points = 61–67"
      ]
    },
    {
      "cell_type": "code",
      "metadata": {
        "id": "z-Yzumc4dL3z"
      },
      "source": [
        "# loading the detector\r\n",
        "import dlib\r\n",
        "detector = dlib.get_frontal_face_detector()\r\n",
        "# loading the predictor using a pre-trained model suggested by an article\r\n",
        "predictor = dlib.shape_predictor(\"/content/gdrive/My Drive/Colab Notebooks/shape_predictor_68_face_landmarks.dat\")"
      ],
      "execution_count": null,
      "outputs": []
    },
    {
      "cell_type": "code",
      "metadata": {
        "id": "uxymWOlyk1W_"
      },
      "source": [
        "# Use detector to find landmarks\r\n",
        "faces = detector(test_img)\r\n",
        "for face in faces:\r\n",
        "    x1 = face.left() # left point\r\n",
        "    y1 = face.top() # top point\r\n",
        "    x2 = face.right() # right point\r\n",
        "    y2 = face.bottom() # bottom point\r\n",
        "    # Draw a rectangle\r\n",
        "    cv2.rectangle(img=img, pt1=(x1, y1), pt2=(x2, y2), color=(0, 255, 0), thickness=4)"
      ],
      "execution_count": null,
      "outputs": []
    },
    {
      "cell_type": "code",
      "metadata": {
        "id": "SdqTJTsfno9O"
      },
      "source": [
        "# show the image\r\n",
        "plt.imshow(test_img)"
      ],
      "execution_count": null,
      "outputs": []
    },
    {
      "cell_type": "code",
      "metadata": {
        "id": "3C6l449gptRb"
      },
      "source": [
        "from google.colab.patches import cv2_imshow\r\n",
        "# show the image\r\n",
        "cv2_imshow(img)"
      ],
      "execution_count": null,
      "outputs": []
    },
    {
      "cell_type": "code",
      "metadata": {
        "id": "byN_HfQLqo_9"
      },
      "source": [
        "# Look for the landmarks\r\n",
        "landmarks = predictor(image=test_img, box=face)\r\n",
        "for n in range(0, 68):\r\n",
        "  x = landmarks.part(n).x\r\n",
        "  y = landmarks.part(n).y\r\n",
        "  # Draw a circle\r\n",
        "  cv2.circle(img=img, center=(x, y), radius=0, color=(0, 255, 0), thickness=-1)\r\n",
        "cv2_imshow(img)\r\n",
        "plt.imshow(img)"
      ],
      "execution_count": null,
      "outputs": []
    },
    {
      "cell_type": "code",
      "metadata": {
        "id": "wzKYn86MuJAu"
      },
      "source": [
        ""
      ],
      "execution_count": null,
      "outputs": []
    }
  ]
}